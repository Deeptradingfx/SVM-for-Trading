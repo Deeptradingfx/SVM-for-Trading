{
 "cells": [
  {
   "cell_type": "code",
   "execution_count": null,
   "metadata": {},
   "outputs": [],
   "source": [
    "import numpy as np\n",
    "import pandas as pd\n",
    "import matplotlib.pyplot as plt\n",
    "import datetime as dt\n",
    "import matplotlib.pyplot as plt\n",
    "from matplotlib import style\n",
    "import pandas as pd\n",
    "import pandas_datareader.data as web\n",
    "from matplotlib.finance import candlestick_ohlc\n",
    "import matplotlib.dates as mdates\n",
    "import talib\n",
    "\n",
    "def get_data(ticker):\n",
    "    start = dt.datetime(2015, 1, 1)\n",
    "    end = dt.datetime(2017, 12, 31)\n",
    "    df = web.DataReader('ticker', 'yahoo', start, end)\n",
    "    df.to_csv('{ticker}.csv')\n",
    "    \n",
    "get_data('AMZN')"
   ]
  },
  {
   "cell_type": "code",
   "execution_count": null,
   "metadata": {},
   "outputs": [],
   "source": [
    "def data_preprocessing(ticker):\n",
    "    dataset = pd.read_csv('{}.csv'.format(ticker))\n",
    "    dataset = dataset.dropna()\n",
    "    dataset = dataset[['Open', 'High', 'Low', 'Close']]\n",
    "    \n",
    "    dataset['H-L'] = dataset['High'] - dataset['Low']\n",
    "    dataset['O-C'] = dataset['Close'] - dataset['Open']\n",
    "    \n",
    "    dataset['ma_5'] = dataset['Close'].rolling(window=5).mean()\n",
    "    dataset['ma_10'] = dataset['Close'].rolling(window=10).mean()\n",
    "\n",
    "    dataset['std_5'] = dataset['Close'].rolling(window=5).std()\n",
    "    dataset['std_10'] = dataset['Close'].rolling(window=10).std()\n",
    "    \n",
    "    dataset['RSI'] = talib.RSI(dataset['Close'].values, timeperiod = 14)\n",
    "    dataset['Williams %R'] = talib.WILLR(dataset['High'].values, dataset['Low'].values, dataset['Close'].values, 7)\n",
    "    dataset['SAR'] = talib.SAR(np.array(dataset['High']), np.array(dataset['Low']), 0.2, 0.2)\n",
    "    dataset['ADX'] = talib.ADX(np.array(dataset['High']), np.array(dataset['Low']), np.array(dataste['Close']), 10)\n",
    "\n",
    "    dataset['Price_Rise'] = np.where(dataset['Close'].shift(-1) > dataset['Close'], 1, 0)\n",
    "    \n",
    "    dataset = dataset.dropna()\n",
    "    X = dataset.iloc[:, 4:-1]\n",
    "    y = dataset.iloc[:, -1]\n",
    "    \n",
    "    split = int(len(dataset)*0.8)\n",
    "    X_train, X_test, y_train, y_test = X[:split], X[split:], y[:split], y[split:]\n",
    "    \n",
    "    return X_train, X_test, y_train, y_test\n",
    "\n",
    "data_preprocessing('AMZN')"
   ]
  },
  {
   "cell_type": "code",
   "execution_count": null,
   "metadata": {},
   "outputs": [],
   "source": [
    "from sklearn import svm, cross_validation, neighbors\n",
    "from collections import Counter\n",
    "\n",
    "def svm_linear(ticker):\n",
    "    X_train, X_test, y_train, y_test = data_preprocessing(ticker)\n",
    "    clf = svm.SVC(kernel = 'linear')\n",
    "    clf.fit(X_train, y_train)\n",
    "    confidence = clf.score(X_test, y_test)\n",
    "    print('accuracy:',confidence)\n",
    "    predictions = clf.predict(X_test)\n",
    "    print('predicted class counts:',Counter(predictions))\n",
    "    \n",
    "svm_linear('AMZN')    "
   ]
  },
  {
   "cell_type": "code",
   "execution_count": null,
   "metadata": {},
   "outputs": [],
   "source": [
    "def svm_poly(ticker):\n",
    "    X_train, X_test, y_train, y_test = data_preprocessing(ticker)\n",
    "    clf = svm.SVC(kernel = 'poly')\n",
    "    clf.fit(X_train, y_train)\n",
    "    confidence = clf.score(X_test, y_test)\n",
    "    print('accuracy:',confidence)\n",
    "    predictions = clf.predict(X_test)\n",
    "    print('predicted class counts:',Counter(predictions))\n",
    "    \n",
    "svm_poly('AMZN')   "
   ]
  },
  {
   "cell_type": "code",
   "execution_count": null,
   "metadata": {},
   "outputs": [],
   "source": [
    "def svm_rbf(ticker):\n",
    "    X_train, X_test, y_train, y_test = data_preprocessing(ticker)\n",
    "    clf = svm.SVC(kernel = 'rbf')\n",
    "    clf.fit(X_train, y_train)\n",
    "    confidence = clf.score(X_test, y_test)\n",
    "    print('accuracy:',confidence)\n",
    "    predictions = clf.predict(X_test)\n",
    "    print('predicted class counts:',Counter(predictions))\n",
    "    \n",
    "svm_rbf('AMZN')  "
   ]
  },
  {
   "cell_type": "code",
   "execution_count": null,
   "metadata": {},
   "outputs": [],
   "source": [
    "def KNN(ticker):\n",
    "    X_train, X_test, y_train, y_test = data_preprocessing(ticker)\n",
    "    \n",
    "    clf = neighbors.KNeighborsClassifier()\n",
    "    clf.fit(X_train, y_train)\n",
    "    confidence = clf.score(X_test, y_test)\n",
    "    print('accuracy:',confidence)\n",
    "    predictions = clf.predict(X_test)\n",
    "    print('predicted class counts:',Counter(predictions))\n",
    "    \n",
    "KNN('AMZN') "
   ]
  },
  {
   "cell_type": "code",
   "execution_count": null,
   "metadata": {},
   "outputs": [],
   "source": [
    "from sklearn.ensemble import VotingClassifier, RandomForestClassifier\n",
    "\n",
    "def voting_classifier(ticker):\n",
    "    X_train, X_test, y_train, y_test = data_preprocessing(ticker)\n",
    "\n",
    "    clf = VotingClassifier([('lsvc',svm.LinearSVC()),\n",
    "                            ('knn',neighbors.KNeighborsClassifier()),\n",
    "                            ('rfor',RandomForestClassifier())])\n",
    "\n",
    "    clf.fit(X_train, y_train)\n",
    "    confidence = clf.score(X_test, y_test)\n",
    "    print('accuracy:',confidence)\n",
    "    predictions = clf.predict(X_test)\n",
    "    print('predicted class counts:',Counter(predictions))\n",
    "    print()\n",
    "    print()\n",
    "    return confidence\n",
    "\n",
    "voting_classifier('AMZN')"
   ]
  }
 ],
 "metadata": {
  "kernelspec": {
   "display_name": "Python 3",
   "language": "python",
   "name": "python3"
  },
  "language_info": {
   "codemirror_mode": {
    "name": "ipython",
    "version": 3
   },
   "file_extension": ".py",
   "mimetype": "text/x-python",
   "name": "python",
   "nbconvert_exporter": "python",
   "pygments_lexer": "ipython3",
   "version": "3.5.5"
  }
 },
 "nbformat": 4,
 "nbformat_minor": 2
}
